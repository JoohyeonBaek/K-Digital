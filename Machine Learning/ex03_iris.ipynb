{
 "cells": [
  {
   "cell_type": "code",
   "execution_count": 1,
   "metadata": {
    "id": "cr3JKO0jpEZg"
   },
   "outputs": [
    {
     "name": "stderr",
     "output_type": "stream",
     "text": [
      "<frozen importlib._bootstrap>:219: RuntimeWarning: numpy.ufunc size changed, may indicate binary incompatibility. Expected 192 from C header, got 216 from PyObject\n"
     ]
    }
   ],
   "source": [
    "import pandas as pd \n",
    "from sklearn import svm, metrics \n",
    "from sklearn.model_selection import train_test_split # 학습데이터와 테스트 데이터 구분"
   ]
  },
  {
   "cell_type": "code",
   "execution_count": 4,
   "metadata": {
    "id": "I73DsndCpEZn"
   },
   "outputs": [],
   "source": [
    "csv = pd.read_csv(\"iris.csv\")"
   ]
  },
  {
   "cell_type": "code",
   "execution_count": 5,
   "metadata": {
    "id": "kTyBXN2FpEZo"
   },
   "outputs": [],
   "source": [
    "csv_data = csv[ [\"SepalLength\",\"SepalWidth\",\"PetalLength\",\"PetalWidth\"] ]\n",
    "csv_label = csv[[\"Name\"]] "
   ]
  },
  {
   "cell_type": "code",
   "execution_count": 6,
   "metadata": {
    "executionInfo": {
     "elapsed": 724,
     "status": "ok",
     "timestamp": 1615421830411,
     "user": {
      "displayName": "Jungin Lee",
      "photoUrl": "https://lh3.googleusercontent.com/a-/AOh14GjP_CFmTa5aBKSliCROOnGkQTW_SxKjoswxuP8QPA=s64",
      "userId": "15449047399293082265"
     },
     "user_tz": -540
    },
    "id": "1HbH7wB_pEZo"
   },
   "outputs": [],
   "source": [
    "train_data, test_data , train_label, test_label  =  \\ # \\ : 파이썬에서 줄 바꿔도 이어서 쓸때 사용\n",
    "    train_test_split(csv_data, csv_label) \n",
    "\n",
    "# help( train_test_split )"
   ]
  },
  {
   "cell_type": "code",
   "execution_count": 7,
   "metadata": {
    "id": "DEVwtatopEZp",
    "outputId": "0bd8db79-b2bf-4698-d36e-7805bcf1748f",
    "scrolled": false
   },
   "outputs": [
    {
     "name": "stderr",
     "output_type": "stream",
     "text": [
      "C:\\Users\\qorwn\\anaconda3\\lib\\site-packages\\sklearn\\utils\\validation.py:72: DataConversionWarning: A column-vector y was passed when a 1d array was expected. Please change the shape of y to (n_samples, ), for example using ravel().\n",
      "  return f(**kwargs)\n"
     ]
    },
    {
     "data": {
      "text/plain": [
       "SVC()"
      ]
     },
     "execution_count": 7,
     "metadata": {},
     "output_type": "execute_result"
    }
   ],
   "source": [
    "model = svm.SVC()\n",
    "model.fit(train_data, train_label)"
   ]
  },
  {
   "cell_type": "code",
   "execution_count": 8,
   "metadata": {
    "id": "un_2DyQkpEZq"
   },
   "outputs": [],
   "source": [
    "pre = model.predict(test_data)"
   ]
  },
  {
   "cell_type": "code",
   "execution_count": 9,
   "metadata": {
    "id": "H3mJPrhmpEZq",
    "outputId": "8b460f5a-f50a-4dc1-dc77-3bba9ee69d9e"
   },
   "outputs": [
    {
     "name": "stdout",
     "output_type": "stream",
     "text": [
      "정답률 =  0.9473684210526315\n"
     ]
    }
   ],
   "source": [
    "ac_score = metrics.accuracy_score(test_label, pre)\n",
    "print(\"정답률 = \" , ac_score)"
   ]
  },
  {
   "cell_type": "code",
   "execution_count": null,
   "metadata": {},
   "outputs": [],
   "source": []
  }
 ],
 "metadata": {
  "colab": {
   "collapsed_sections": [],
   "name": "ex03_iris.ipynb",
   "provenance": []
  },
  "kernelspec": {
   "display_name": "Python 3",
   "language": "python",
   "name": "python3"
  },
  "language_info": {
   "codemirror_mode": {
    "name": "ipython",
    "version": 3
   },
   "file_extension": ".py",
   "mimetype": "text/x-python",
   "name": "python",
   "nbconvert_exporter": "python",
   "pygments_lexer": "ipython3",
   "version": "3.8.5"
  },
  "toc": {
   "base_numbering": 1,
   "nav_menu": {},
   "number_sections": true,
   "sideBar": true,
   "skip_h1_title": false,
   "title_cell": "Table of Contents",
   "title_sidebar": "Contents",
   "toc_cell": false,
   "toc_position": {},
   "toc_section_display": true,
   "toc_window_display": false
  }
 },
 "nbformat": 4,
 "nbformat_minor": 1
}
