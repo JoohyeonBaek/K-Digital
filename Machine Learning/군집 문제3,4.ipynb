{
 "cells": [
  {
   "cell_type": "markdown",
   "metadata": {},
   "source": [
    "문제) 인터넷 쇼핑몰을 운영하는 기업에서 고객들의 성향을 분석하여 마케팅을 실시하려고 합니다.\n",
    " \n",
    "이 인터넷 쇼핑몰의 크게 티켓/쇼핑의 제품으로 카테고리를 나누고 있습니다. \n",
    "일년동안 고객의 구매건수를 다음과 같은 파일(order1.csv)에 수집하였습니다.  \n",
    "order1.csv 파일을 분석하여 고객을 5개의 clustering 하세요."
   ]
  },
  {
   "cell_type": "code",
   "execution_count": 2,
   "metadata": {
    "scrolled": true
   },
   "outputs": [
    {
     "name": "stdout",
     "output_type": "stream",
     "text": [
      "    Ticket  Shopping\n",
      "0       10        10\n",
      "1        1         0\n",
      "2        0        50\n",
      "3        0        50\n",
      "4        0        20\n",
      "5        2        10\n",
      "6        4         1\n",
      "7        6         1\n",
      "8        0         1\n",
      "9       10         1\n",
      "10       0         3\n",
      "11      20        20\n",
      "12      50        10\n",
      "13       2         1\n",
      "14       1         2\n",
      "15       1        10\n",
      "16       1        10\n",
      "17       1         1\n",
      "18       4         5\n",
      "19       4         5\n",
      "20       0        22\n",
      "21       0        44\n",
      "22       0        16\n",
      "23       0        12\n",
      "24       0         5\n",
      "25       0        17\n",
      "26       0        21\n",
      "27       0        28\n",
      "28       0        16\n",
      "29      22         1\n",
      "30      25        10\n",
      "31      16         1\n",
      "32      12         1\n",
      "33      30        10\n",
      "34      17         4\n",
      "35      22         4\n",
      "36      23         5\n",
      "37      11         5\n",
      " 클러스터 레이블  [3 3 2 2 0 0 3 3 3 3 3 1 4 3 3 0 0 3 3 3 0 2 0 0 3 0 0 0 0 1 1 1 3 1 1 1 1\n",
      " 3]\n"
     ]
    },
    {
     "name": "stderr",
     "output_type": "stream",
     "text": [
      "C:\\Users\\qorwn\\anaconda3\\lib\\site-packages\\matplotlib\\backends\\backend_agg.py:238: RuntimeWarning: Glyph 53364 missing from current font.\n",
      "  font.set_text(s, 0.0, flags=flags)\n",
      "C:\\Users\\qorwn\\anaconda3\\lib\\site-packages\\matplotlib\\backends\\backend_agg.py:238: RuntimeWarning: Glyph 47084 missing from current font.\n",
      "  font.set_text(s, 0.0, flags=flags)\n",
      "C:\\Users\\qorwn\\anaconda3\\lib\\site-packages\\matplotlib\\backends\\backend_agg.py:238: RuntimeWarning: Glyph 49828 missing from current font.\n",
      "  font.set_text(s, 0.0, flags=flags)\n",
      "C:\\Users\\qorwn\\anaconda3\\lib\\site-packages\\matplotlib\\backends\\backend_agg.py:238: RuntimeWarning: Glyph 53552 missing from current font.\n",
      "  font.set_text(s, 0.0, flags=flags)\n",
      "C:\\Users\\qorwn\\anaconda3\\lib\\site-packages\\matplotlib\\backends\\backend_agg.py:201: RuntimeWarning: Glyph 53364 missing from current font.\n",
      "  font.set_text(s, 0, flags=flags)\n",
      "C:\\Users\\qorwn\\anaconda3\\lib\\site-packages\\matplotlib\\backends\\backend_agg.py:201: RuntimeWarning: Glyph 47084 missing from current font.\n",
      "  font.set_text(s, 0, flags=flags)\n",
      "C:\\Users\\qorwn\\anaconda3\\lib\\site-packages\\matplotlib\\backends\\backend_agg.py:201: RuntimeWarning: Glyph 49828 missing from current font.\n",
      "  font.set_text(s, 0, flags=flags)\n",
      "C:\\Users\\qorwn\\anaconda3\\lib\\site-packages\\matplotlib\\backends\\backend_agg.py:201: RuntimeWarning: Glyph 53552 missing from current font.\n",
      "  font.set_text(s, 0, flags=flags)\n"
     ]
    },
    {
     "data": {
      "image/png": "[encoded data removed]",
      "text/plain": [
       "<Figure size 432x288 with 1 Axes>"
      ]
     },
     "metadata": {
      "needs_background": "light"
     },
     "output_type": "display_data"
    }
   ],
   "source": [
    "import mglearn\n",
    "import pandas as pd\n",
    "from sklearn.cluster import KMeans\n",
    "import matplotlib.pyplot as plt\n",
    "import matplotlib\n",
    "from matplotlib import font_manager, rc\n",
    "\n",
    "data = pd.read_csv(\"order1.csv\")\n",
    "print(data.iloc[:,0:])\n",
    "\n",
    "kmeans = KMeans(n_clusters=5)\n",
    "kmeans.fit(data.iloc[:,0:])\n",
    "\n",
    "aaa = kmeans.fit_predict(data.iloc[:,0:])\n",
    "print(\" 클러스터 레이블 \", kmeans.labels_ )\n",
    "\n",
    "mglearn.discrete_scatter(data.iloc[:,0], data.iloc[:,1], kmeans.labels_ )\n",
    "plt.legend([\"클러스터 0\", \"클러스터 1\", \"클러스터 2\"], loc='best')\n",
    "plt.xlabel(\"Tiket\")\n",
    "plt.ylabel(\"Shopping\")\n",
    "plt.show()"
   ]
  },
  {
   "cell_type": "markdown",
   "metadata": {},
   "source": [
    "##문제 4\n",
    "\t사기(예측)\t정상(예측)\t\n",
    " 사기 100     50\t\t실제 150 \n",
    " 정상 10\t\t40\t\t실제 50\n",
    "    110     90\t\t총 200\n",
    " \n",
    " \n",
    " 정밀도 TP/(TP+FP) = 100/(100+10) = 100/110\n",
    " 재현율 TP/(TP+FN) = 100/(100+50) = 100/150\n",
    " 정확도 (TP+TN)/(TP+FN+FP+TN) = 100+40 / 200 = 70/100"
   ]
  }
 ],
 "metadata": {
  "kernelspec": {
   "display_name": "Python 3",
   "language": "python",
   "name": "python3"
  },
  "language_info": {
   "codemirror_mode": {
    "name": "ipython",
    "version": 3
   },
   "file_extension": ".py",
   "mimetype": "text/x-python",
   "name": "python",
   "nbconvert_exporter": "python",
   "pygments_lexer": "ipython3",
   "version": "3.8.5"
  },
  "toc": {
   "base_numbering": 1,
   "nav_menu": {},
   "number_sections": true,
   "sideBar": true,
   "skip_h1_title": false,
   "title_cell": "Table of Contents",
   "title_sidebar": "Contents",
   "toc_cell": false,
   "toc_position": {},
   "toc_section_display": true,
   "toc_window_display": false
  }
 },
 "nbformat": 4,
 "nbformat_minor": 4
}
