{
 "cells": [
  {
   "cell_type": "markdown",
   "metadata": {
    "id": "R5sMY-xvqEqf"
   },
   "source": [
    "####    #TODO를 찾아서 코드를 완성하세요"
   ]
  },
  {
   "cell_type": "code",
   "execution_count": 2,
   "metadata": {
    "id": "NxhWABL8qEqm",
    "outputId": "862f169a-627d-4e72-846a-f6bab37411ca"
   },
   "outputs": [
    {
     "name": "stdout",
     "output_type": "stream",
     "text": [
      "[[1. 0. 0.]\n",
      " [0. 1. 0.]\n",
      " [0. 0. 1.]\n",
      " [1. 0. 0.]\n",
      " [0. 0. 1.]]\n"
     ]
    }
   ],
   "source": [
    "from sklearn.preprocessing  import OneHotEncoder\n",
    "\n",
    "def main():\n",
    "    enc = OneHotEncoder()\n",
    "    sourcedata = [\n",
    "        [65],\n",
    "        [66],\n",
    "        [67]\n",
    "    ]\n",
    "    enc.fit(sourcedata)\n",
    "\n",
    "    data =[\n",
    "        [65],\n",
    "        [66],\n",
    "        [67],\n",
    "        [65],\n",
    "        [67]\n",
    "    ]\n",
    "    print(enc.transform(data).toarray())\n",
    "\n",
    "if __name__ == '__main__':\n",
    "    main()"
   ]
  },
  {
   "cell_type": "code",
   "execution_count": null,
   "metadata": {
    "id": "LmjC6TI1qEqo",
    "outputId": "a24dfb83-8d12-49ad-a3d3-7c3493c4a57b"
   },
   "outputs": [
    {
     "name": "stdout",
     "output_type": "stream",
     "text": [
      "[[1. 0. 0.]\n",
      " [1. 0. 0.]\n",
      " [0. 1. 0.]\n",
      " [0. 1. 0.]\n",
      " [0. 0. 1.]]\n"
     ]
    }
   ],
   "source": [
    "from sklearn.preprocessing  import OneHotEncoder \n",
    "\n",
    "def main():\n",
    "    enc = OneHotEncoder ()\n",
    "    sourcedata = [\n",
    "        ['A'],\n",
    "        ['B'],\n",
    "        ['C']\n",
    "    ]\n",
    "    enc.fit (sourcedata)\n",
    "\n",
    "    data =[\n",
    "        ['A'],\n",
    "        ['A'],\n",
    "        ['B'],\n",
    "        ['B'],\n",
    "        ['C']\n",
    "    ]\n",
    "    print(enc.transform (data).toarray())\n",
    "\n",
    "if __name__ == '__main__':     \n",
    "    main()"
   ]
  },
  {
   "cell_type": "code",
   "execution_count": null,
   "metadata": {
    "id": "_a7Cf-TDqEqo"
   },
   "outputs": [],
   "source": []
  }
 ],
 "metadata": {
  "colab": {
   "collapsed_sections": [],
   "name": "ex05_one_hot_encoding.ipynb",
   "provenance": []
  },
  "kernelspec": {
   "display_name": "Python 3",
   "language": "python",
   "name": "python3"
  },
  "language_info": {
   "codemirror_mode": {
    "name": "ipython",
    "version": 3
   },
   "file_extension": ".py",
   "mimetype": "text/x-python",
   "name": "python",
   "nbconvert_exporter": "python",
   "pygments_lexer": "ipython3",
   "version": "3.8.5"
  },
  "toc": {
   "base_numbering": 1,
   "nav_menu": {},
   "number_sections": true,
   "sideBar": true,
   "skip_h1_title": false,
   "title_cell": "Table of Contents",
   "title_sidebar": "Contents",
   "toc_cell": false,
   "toc_position": {},
   "toc_section_display": true,
   "toc_window_display": false
  }
 },
 "nbformat": 4,
 "nbformat_minor": 1
}
